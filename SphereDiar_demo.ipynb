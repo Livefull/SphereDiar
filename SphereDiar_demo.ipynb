{
 "cells": [
  {
   "cell_type": "code",
   "execution_count": 1,
   "metadata": {},
   "outputs": [
    {
     "name": "stderr",
     "output_type": "stream",
     "text": [
      "Using TensorFlow backend.\n"
     ]
    }
   ],
   "source": [
    "from meeting_corpus_util import *\n",
    "from SphereDiar import *"
   ]
  },
  {
   "cell_type": "markdown",
   "metadata": {},
   "source": [
    "### Step 1: Data preprocessing\n",
    "\n",
    "In this demonstration, \"Bro023\" from ICSI corpus is used as an example meeting recording. In the first step, SAD is performed and transcription labels are generated. Following code should work with any meeting from AMI or ICSI if the meeting includes ASR based transcriptions."
   ]
  },
  {
   "cell_type": "code",
   "execution_count": 2,
   "metadata": {},
   "outputs": [],
   "source": [
    "path = \"/your/path/\"\n",
    "audio_path = \"/\".join([path, \"audio\"])\n",
    "tc_asr_path = \"/\".join([path, \"transcriptions\", \"ASR\"])\n",
    "tc_word_path = \"/\".join([path, \"transcriptions\", \"words\"])\n",
    "\n",
    "audio_file = \"Bro023.interaction.wav\"\n",
    "sig, transcript_lab = transcript_label_generator(audio_file, [audio_path, tc_word_path, tc_asr_path])"
   ]
  },
  {
   "cell_type": "markdown",
   "metadata": {},
   "source": [
    "### Step 2: System initialization\n",
    "\n",
    "In this step, SphereDiar is initialized with given SphereSpeaker model. For now, two configurations are available: \n",
    "SphereSpeaker and SphereSpeaker 200. The former is depicted in the paper whereas the latter is an updated version with embedding dimension compressed to 200."
   ]
  },
  {
   "cell_type": "code",
   "execution_count": 3,
   "metadata": {},
   "outputs": [],
   "source": [
    "model_path = \"/\".join([path, \"models\"])\n",
    "os.chdir(model_path)\n",
    "SS_model = load_model(\"SphereSpeaker.hdf\")\n",
    "SD = SphereDiar(SS_model)"
   ]
  },
  {
   "cell_type": "markdown",
   "metadata": {},
   "source": [
    "### Step 3: Feature extraction and speaker modeling\n",
    "\n",
    "If you are only interested in creating speaker embeddings, this step is as far as you need to go. The input for extract_features should be a numpy array."
   ]
  },
  {
   "cell_type": "code",
   "execution_count": 4,
   "metadata": {},
   "outputs": [],
   "source": [
    "X = SD.extract_features(sig)\n",
    "F = SD.get_embeddings()"
   ]
  },
  {
   "cell_type": "markdown",
   "metadata": {},
   "source": [
    "### Step 4: Clustering\n",
    "\n",
    "Clustering is perfromed using Top Two Silhouettes. By default, the algorithm assumes that $N_{max} = 11$, $\\delta = 0.1$ and $R = 25$. The computation can be parallelized if needed by setting num_cores $ > 1$ (not working with notebook though)."
   ]
  },
  {
   "cell_type": "code",
   "execution_count": null,
   "metadata": {},
   "outputs": [],
   "source": [
    "SD.cluster(embeddings = F, rounds = 5)"
   ]
  },
  {
   "cell_type": "markdown",
   "metadata": {},
   "source": [
    "### Step 5: Evaluation\n",
    "\n",
    "class SphereDiar provides tools for computation of DER and visualization."
   ]
  },
  {
   "cell_type": "code",
   "execution_count": null,
   "metadata": {},
   "outputs": [],
   "source": [
    "f_transcript = np.transpose(frame(transcript_lab, 32000, 8000))\n",
    "labels = label_generator(f_transcript)\n",
    "\n",
    "H_theta_perc = 0.65\n",
    "ref_ind = np.where(labels[:, 1] > H_theta_perc)[0]\n",
    "ref_labels = labels[ref_ind, 0]"
   ]
  },
  {
   "cell_type": "code",
   "execution_count": null,
   "metadata": {},
   "outputs": [],
   "source": [
    "SD.visualize(center_num = 5,indices = ref_ind)"
   ]
  },
  {
   "cell_type": "code",
   "execution_count": null,
   "metadata": {},
   "outputs": [],
   "source": [
    "SD.visualize(indices = ref_ind, ref_labels = ref_labels)"
   ]
  },
  {
   "cell_type": "markdown",
   "metadata": {},
   "source": [
    "It seems that diarization has been a success. What says DER?"
   ]
  },
  {
   "cell_type": "code",
   "execution_count": null,
   "metadata": {},
   "outputs": [],
   "source": [
    "SD.calc_DER(ref_labels, ref_ind)"
   ]
  },
  {
   "cell_type": "markdown",
   "metadata": {},
   "source": [
    "Nice! "
   ]
  }
 ],
 "metadata": {
  "kernelspec": {
   "display_name": "Python 3",
   "language": "python",
   "name": "python3"
  },
  "language_info": {
   "codemirror_mode": {
    "name": "ipython",
    "version": 3
   },
   "file_extension": ".py",
   "mimetype": "text/x-python",
   "name": "python",
   "nbconvert_exporter": "python",
   "pygments_lexer": "ipython3",
   "version": "3.6.7"
  }
 },
 "nbformat": 4,
 "nbformat_minor": 2
}
